{
  "nbformat": 4,
  "nbformat_minor": 0,
  "metadata": {
    "colab": {
      "provenance": [],
      "authorship_tag": "ABX9TyNgHL6cYhNC3PLsueWpJ96u",
      "include_colab_link": true
    },
    "kernelspec": {
      "name": "python3",
      "display_name": "Python 3"
    },
    "language_info": {
      "name": "python"
    }
  },
  "cells": [
    {
      "cell_type": "markdown",
      "metadata": {
        "id": "view-in-github",
        "colab_type": "text"
      },
      "source": [
        "<a href=\"https://colab.research.google.com/github/SupremeEvilGod/ML3-Stock-Price-Prediction-Using-Linear-Regression/blob/main/ML3-Stock-Price-Prediction-Using-Linear-Regression.ipynb\" target=\"_parent\"><img src=\"https://colab.research.google.com/assets/colab-badge.svg\" alt=\"Open In Colab\"/></a>"
      ]
    },
    {
      "cell_type": "markdown",
      "source": [
        "# Dataset Creation(Stock Market Data (Financial Data))"
      ],
      "metadata": {
        "id": "fEZSD0cwpqMB"
      }
    },
    {
      "cell_type": "code",
      "execution_count": 1,
      "metadata": {
        "colab": {
          "base_uri": "https://localhost:8080/"
        },
        "id": "4S09boiGpM1n",
        "outputId": "3a467d73-c227-4531-b605-bf8271242902"
      },
      "outputs": [
        {
          "output_type": "stream",
          "name": "stderr",
          "text": [
            "\r[*********************100%***********************]  1 of 1 completed"
          ]
        },
        {
          "output_type": "stream",
          "name": "stdout",
          "text": [
            "                                 Open        High         Low       Close  \\\n",
            "Datetime                                                                    \n",
            "2024-09-18 09:30:00-04:00  218.250000  218.664307  218.250000  218.539993   \n",
            "2024-09-18 09:31:00-04:00  218.770004  218.770004  218.770004  218.770004   \n",
            "2024-09-18 09:32:00-04:00  218.804993  218.970001  218.804993  218.957993   \n",
            "2024-09-18 09:33:00-04:00  219.000000  219.160004  218.404907  218.470001   \n",
            "2024-09-18 09:34:00-04:00  218.520004  218.589996  218.172195  218.509995   \n",
            "\n",
            "                            Adj Close   Volume  \n",
            "Datetime                                        \n",
            "2024-09-18 09:30:00-04:00  218.539993  1518543  \n",
            "2024-09-18 09:31:00-04:00  218.770004   345023  \n",
            "2024-09-18 09:32:00-04:00  218.957993   404459  \n",
            "2024-09-18 09:33:00-04:00  218.470001   329205  \n",
            "2024-09-18 09:34:00-04:00  218.509995   270629  \n"
          ]
        },
        {
          "output_type": "stream",
          "name": "stderr",
          "text": [
            "\n"
          ]
        }
      ],
      "source": [
        "import yfinance as yf\n",
        "#if yfinance is not installed just install it by the command pip install yfinance\n",
        "# Fetch real-time stock data for a specific company (e.g., Apple)\n",
        "data = yf.download('AAPL', period='1d', interval='1m')\n",
        "\n",
        "# Let's check the first few rows of the stock data\n",
        "print(data.head())\n"
      ]
    },
    {
      "cell_type": "markdown",
      "source": [
        "# Prepare the Data\n",
        "We’ll split the real-time stock data into the feature and target variables.\n"
      ],
      "metadata": {
        "id": "ZdXFFWxXqLZl"
      }
    },
    {
      "cell_type": "code",
      "source": [
        "#Select 'Open' as feature (X) and 'Close' as target (y)\n",
        "X = data['Open'].values.reshape(-1, 1)  # Feature: Open Prices\n",
        "y = data['Close'].values  # Target: Close Prices\n",
        "\n",
        "# Preview the feature and target variables\n",
        "print(X[:5])  # First 5 Open prices\n",
        "print(y[:5])  # First 5 Close prices\n"
      ],
      "metadata": {
        "colab": {
          "base_uri": "https://localhost:8080/"
        },
        "id": "d6IOwr7ipUvL",
        "outputId": "1b9417f8-6147-4ca7-a1e2-1024fb2d3c99"
      },
      "execution_count": 2,
      "outputs": [
        {
          "output_type": "stream",
          "name": "stdout",
          "text": [
            "[[218.25      ]\n",
            " [218.77000427]\n",
            " [218.80499268]\n",
            " [219.        ]\n",
            " [218.52000427]]\n",
            "[218.53999329 218.77000427 218.95799255 218.47000122 218.50999451]\n"
          ]
        }
      ]
    },
    {
      "cell_type": "markdown",
      "source": [
        "# Train-Test Split\n",
        "We’ll split the data into training and testing sets for better evaluation."
      ],
      "metadata": {
        "id": "x6U83s8oqeO6"
      }
    },
    {
      "cell_type": "code",
      "source": [
        "from sklearn.model_selection import train_test_split\n",
        "\n",
        "#Split the data (80% training, 20% testing)\n",
        "X_train, X_test, y_train, y_test = train_test_split(X, y, test_size=0.2, random_state=42)\n",
        "\n",
        "# Check the shape of the training data\n",
        "print(f'Training set size: {X_train.shape}, Testing set size: {X_test.shape}')\n"
      ],
      "metadata": {
        "colab": {
          "base_uri": "https://localhost:8080/"
        },
        "id": "VUc1KI3LqoZn",
        "outputId": "457571d1-befc-4b32-e6d8-8fb9ce7c128d"
      },
      "execution_count": 3,
      "outputs": [
        {
          "output_type": "stream",
          "name": "stdout",
          "text": [
            "Training set size: (112, 1), Testing set size: (29, 1)\n"
          ]
        }
      ]
    },
    {
      "cell_type": "markdown",
      "source": [
        "# Build and Train the Model\n",
        "Now we’ll use LinearRegression from sklearn to build the model and train it on the training data."
      ],
      "metadata": {
        "id": "-wR2Ejlzqy0S"
      }
    },
    {
      "cell_type": "code",
      "source": [
        "from sklearn.linear_model import LinearRegression\n",
        "\n",
        "# Create a Linear Regression model\n",
        "model = LinearRegression()\n",
        "\n",
        "# Train the model using the training data\n",
        "model.fit(X_train, y_train)\n",
        "\n",
        "# Print the model's coefficients (slope) and intercept\n",
        "print(f\"Model Coefficients: {model.coef_}\")\n",
        "print(f\"Model Intercept: {model.intercept_}\")\n"
      ],
      "metadata": {
        "colab": {
          "base_uri": "https://localhost:8080/"
        },
        "id": "hB3yL5bDqsKw",
        "outputId": "0b368538-6e13-4e14-9748-9b069fc8c5f1"
      },
      "execution_count": 4,
      "outputs": [
        {
          "output_type": "stream",
          "name": "stdout",
          "text": [
            "Model Coefficients: [0.97138073]\n",
            "Model Intercept: 6.313379388321977\n"
          ]
        }
      ]
    },
    {
      "cell_type": "markdown",
      "source": [
        "# Evaluate the Model\n",
        "We’ll now evaluate the model by predicting the Close prices using the test set and calculating performance metrics."
      ],
      "metadata": {
        "id": "xjc7JPDarDOG"
      }
    },
    {
      "cell_type": "code",
      "source": [
        "from sklearn.metrics import mean_squared_error, r2_score\n",
        "\n",
        "# Predict the Close prices using the test data\n",
        "y_pred = model.predict(X_test)\n",
        "\n",
        "# Calculate performance metrics\n",
        "mse = mean_squared_error(y_test, y_pred)\n",
        "r2 = r2_score(y_test, y_pred)\n",
        "\n",
        "print(f\"Mean Squared Error (MSE): {mse}\")\n",
        "print(f\"R-squared: {r2}\")\n"
      ],
      "metadata": {
        "colab": {
          "base_uri": "https://localhost:8080/"
        },
        "id": "D_1KcsqDq7uy",
        "outputId": "2b227f8e-38f9-4ebd-ee9a-b6136a2cab7b"
      },
      "execution_count": 5,
      "outputs": [
        {
          "output_type": "stream",
          "name": "stdout",
          "text": [
            "Mean Squared Error (MSE): 0.014787691155345601\n",
            "R-squared: 0.9772415868192832\n"
          ]
        }
      ]
    },
    {
      "cell_type": "markdown",
      "source": [
        "# Visualization the Results\n",
        "Plot the regression line along with the data points for better visualization."
      ],
      "metadata": {
        "id": "Nl_183aQrYhj"
      }
    },
    {
      "cell_type": "code",
      "source": [
        "import matplotlib.pyplot as plt\n",
        "\n",
        "# Scatter plot of actual Open and Close prices\n",
        "plt.scatter(X_test, y_test, color='blue', label='Actual Data')\n",
        "\n",
        "# Plot the regression line\n",
        "plt.plot(X_test, y_pred, color='red', label='Regression Line')\n",
        "\n",
        "plt.title('Open vs Close Prices (Linear Regression)')\n",
        "plt.xlabel('Open Prices')\n",
        "plt.ylabel('Close Prices')\n",
        "plt.legend()\n",
        "plt.show()\n"
      ],
      "metadata": {
        "colab": {
          "base_uri": "https://localhost:8080/",
          "height": 472
        },
        "id": "wTYp34M-rPu_",
        "outputId": "e4accdf2-0c0c-4262-cff3-420ea4cfb5b5"
      },
      "execution_count": 6,
      "outputs": [
        {
          "output_type": "display_data",
          "data": {
            "text/plain": [
              "<Figure size 640x480 with 1 Axes>"
            ],
            "image/png": "[encoded data removed]"
          },
          "metadata": {}
        }
      ]
    },
    {
      "cell_type": "code",
      "source": [
        ""
      ],
      "metadata": {
        "id": "t8ehwVhkrk41"
      },
      "execution_count": null,
      "outputs": []
    }
  ]
}